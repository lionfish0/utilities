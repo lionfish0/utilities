{
 "cells": [
  {
   "cell_type": "code",
   "execution_count": 16,
   "metadata": {
    "collapsed": false
   },
   "outputs": [
    {
     "name": "stdout",
     "output_type": "stream",
     "text": [
      "0.228500843048\n",
      "0.00393390655518\n",
      "6.0\n",
      "6\n"
     ]
    }
   ],
   "source": [
    "from histogramdd import histogramdd\n",
    "import numpy as np\n",
    "import time\n",
    "\n",
    "D = 3\n",
    "N = 25000\n",
    "data = 50+np.round(np.random.randn(N,D)*20)\n",
    "bins = []\n",
    "for d in range(D):\n",
    "    bins.append(np.arange(0,101,5.0))\n",
    "\n",
    "start = time.time()\n",
    "hist = histogramdd(data,bins) #takes 34.5 seconds for 2.5M\n",
    "end = time.time()\n",
    "print(end - start)\n",
    "\n",
    "start = time.time()\n",
    "testhist,_ = np.histogramdd(data,bins) #takes 1.68 seconds for 2.5M\n",
    "end = time.time()\n",
    "print(end - start)\n",
    "\n",
    "print testhist[5,5,6]\n",
    "print hist[5,5,6]"
   ]
  },
  {
   "cell_type": "code",
   "execution_count": null,
   "metadata": {
    "collapsed": true
   },
   "outputs": [],
   "source": []
  }
 ],
 "metadata": {
  "kernelspec": {
   "display_name": "Python 2",
   "language": "python",
   "name": "python2"
  },
  "language_info": {
   "codemirror_mode": {
    "name": "ipython",
    "version": 2
   },
   "file_extension": ".py",
   "mimetype": "text/x-python",
   "name": "python",
   "nbconvert_exporter": "python",
   "pygments_lexer": "ipython2",
   "version": "2.7.12"
  }
 },
 "nbformat": 4,
 "nbformat_minor": 0
}
